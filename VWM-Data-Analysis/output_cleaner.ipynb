{
 "cells": [
  {
   "cell_type": "code",
   "execution_count": null,
   "metadata": {
    "collapsed": true
   },
   "outputs": [],
   "source": [
    "import glob\n",
    "import pandas as pd\n",
    "import os\n",
    "\n",
    "# text output files must be in a folder called 'old_output'\n",
    "output_files = glob.glob('old_output/*.txt')\n",
    "\n",
    "for i in output_files:\n",
    "\n",
    "    f = open(i, 'r')\n",
    "    f_lines = f.readlines()\n",
    "\n",
    "    # Get output column names and add 'file' column which represents file used for each block\n",
    "    header = f_lines.pop(0).split()\n",
    "    header.append('file')\n",
    "\n",
    "    df = pd.DataFrame(columns=header)\n",
    "    exp_file_name = None\n",
    "\n",
    "    for line in f_lines:\n",
    "        line = line.split()\n",
    "\n",
    "        # Get file name for the given block\n",
    "        if len(line) == 1:\n",
    "            exp_file_name = line[0]\n",
    "\n",
    "        # Add additional empty column for rows without 'repeat_img' column\n",
    "        if len(line) == 9:\n",
    "            line.insert(4, '')\n",
    "\n",
    "        # Replace '-' with no value\n",
    "        if len(line) > 7 and line[7] == '-':\n",
    "            line[7] = ''\n",
    "\n",
    "        # Replace no response time from 2.5 seconds to empty\n",
    "        if len(line) == 10 and line[-1] == '2.5' and line[-2] == '0':\n",
    "            line[-1] = ''\n",
    "\n",
    "        # Add file name and append to dataframe\n",
    "        if len(line) != 1:\n",
    "            line.append(exp_file_name)\n",
    "            df.loc[len(df)] = line\n",
    "\n",
    "    # Save CSV file\n",
    "    participant_num = i.split(os.sep)[1].split('.')[0]\n",
    "    df.to_csv(\"output/%s.csv\" % participant_num, index=False)\n"
   ]
  }
 ],
 "metadata": {
  "kernelspec": {
   "display_name": "Python 2",
   "language": "python",
   "name": "python2"
  },
  "language_info": {
   "codemirror_mode": {
    "name": "ipython",
    "version": 2
   },
   "file_extension": ".py",
   "mimetype": "text/x-python",
   "name": "python",
   "nbconvert_exporter": "python",
   "pygments_lexer": "ipython2",
   "version": "2.7.11"
  }
 },
 "nbformat": 4,
 "nbformat_minor": 0
}
