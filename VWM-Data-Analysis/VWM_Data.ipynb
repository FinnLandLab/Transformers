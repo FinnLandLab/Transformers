{
 "cells": [
  {
   "cell_type": "code",
   "execution_count": 34,
   "metadata": {
    "collapsed": true
   },
   "outputs": [],
   "source": [
    "import glob\n",
    "import pandas as pd\n",
    "import os\n",
    "\n",
    "# text output files must be in a folder called 'old_output'\n",
    "output_files = glob.glob('old_output/*.txt')\n",
    "\n",
    "for i in output_files:\n",
    "\n",
    "f = open(i, 'r')\n",
    "f_lines = f.readlines()\n",
    "\n",
    "    # Get output column names and add 'file' column which represents file used for each block\n",
    "    header = f_lines.pop(0).split()\n",
    "    header.append('file')\n",
    "\n",
    "    df = pd.DataFrame(columns=header)\n",
    "    exp_file_name = None\n",
    "\n",
    "    for line in f_lines:\n",
    "        line = line.split()\n",
    "\n",
    "        # Get file name for the given block\n",
    "        if len(line) == 1:\n",
    "            exp_file_name = line[0]\n",
    "\n",
    "        # Add additional empty column for rows without 'repeat_img' column\n",
    "        if len(line) == 9:\n",
    "            line.insert(4, '')\n",
    "\n",
    "        # Replace '-' with no value\n",
    "        if len(line) > 7 and line[7] == '-':\n",
    "            line[7] = ''\n",
    "\n",
    "        # Replace no response time from 2.5 seconds to empty\n",
    "        if len(line) == 10 and line[-1] == '2.5' and line[-2] == '0':\n",
    "            line[-1] = ''\n",
    "\n",
    "        # Add file name and append to dataframe\n",
    "        if len(line) != 1:\n",
    "            line.append(exp_file_name)\n",
    "            df.loc[len(df)] = line\n",
    "\n",
    "    # Save CSV file\n",
    "    participant_num = i.split(os.sep)[1].split('.')[0]\n",
    "    df.to_csv(\"output/%s.csv\" % participant_num, index=False)\n"
   ]
  },
  {
   "cell_type": "code",
   "execution_count": 35,
   "metadata": {
    "collapsed": true
   },
   "outputs": [],
   "source": [
    "import glob\n",
    "import pandas as pd\n",
    "import os"
   ]
  },
  {
   "cell_type": "code",
   "execution_count": 36,
   "metadata": {
    "collapsed": true
   },
   "outputs": [],
   "source": [
    "output_files = glob.glob('*.txt')"
   ]
  },
  {
   "cell_type": "code",
   "execution_count": 37,
   "metadata": {
    "collapsed": false
   },
   "outputs": [
    {
     "data": {
      "text/plain": [
       "['100.txt',\n",
       " '101.txt',\n",
       " '102.txt',\n",
       " '103.txt',\n",
       " '104.txt',\n",
       " '105.txt',\n",
       " '107.txt',\n",
       " '108.txt',\n",
       " '109.txt',\n",
       " '110.txt',\n",
       " '111.txt',\n",
       " '112.txt',\n",
       " '113.txt',\n",
       " '114.txt',\n",
       " '115.txt',\n",
       " '124.txt',\n",
       " '126.txt']"
      ]
     },
     "execution_count": 37,
     "metadata": {},
     "output_type": "execute_result"
    }
   ],
   "source": [
    "output_files[:20]"
   ]
  },
  {
   "cell_type": "code",
   "execution_count": 38,
   "metadata": {
    "collapsed": true
   },
   "outputs": [],
   "source": [
    "for i in output_files:\n",
    "\n",
    "    f = open(i, 'r')\n",
    "    f_lines = f.readlines()"
   ]
  },
  {
   "cell_type": "code",
   "execution_count": 39,
   "metadata": {
    "collapsed": true
   },
   "outputs": [],
   "source": [
    "header = f_lines.pop(0).split()\n",
    "header.append('file')"
   ]
  },
  {
   "cell_type": "code",
   "execution_count": 40,
   "metadata": {
    "collapsed": true
   },
   "outputs": [],
   "source": [
    "df = pd.DataFrame(columns=header)\n",
    "exp_file_name = None"
   ]
  },
  {
   "cell_type": "code",
   "execution_count": 41,
   "metadata": {
    "collapsed": true
   },
   "outputs": [],
   "source": [
    "for line in f_lines:\n",
    "    line = line.split()"
   ]
  },
  {
   "cell_type": "code",
   "execution_count": 42,
   "metadata": {
    "collapsed": true
   },
   "outputs": [],
   "source": [
    "if len(line) == 1:\n",
    "    exp_file_name = line[0]"
   ]
  },
  {
   "cell_type": "code",
   "execution_count": 43,
   "metadata": {
    "collapsed": true
   },
   "outputs": [],
   "source": [
    "if len(line) == 9:\n",
    "    line.insert(4, '')"
   ]
  },
  {
   "cell_type": "code",
   "execution_count": 44,
   "metadata": {
    "collapsed": true
   },
   "outputs": [],
   "source": [
    "if len(line) > 7 and line[7] == '-':\n",
    "    line[7] = ''"
   ]
  },
  {
   "cell_type": "code",
   "execution_count": 45,
   "metadata": {
    "collapsed": true
   },
   "outputs": [],
   "source": [
    "if len(line) == 10 and line[-1] == '2.5' and line[-2] == '0':\n",
    "    line[-1] = ''"
   ]
  },
  {
   "cell_type": "code",
   "execution_count": 46,
   "metadata": {
    "collapsed": true
   },
   "outputs": [],
   "source": [
    "if len(line) != 1:\n",
    "    line.append(exp_file_name)\n",
    "    df.loc[len(df)] = line"
   ]
  },
  {
   "cell_type": "code",
   "execution_count": 47,
   "metadata": {
    "collapsed": false
   },
   "outputs": [
    {
     "ename": "IndexError",
     "evalue": "list index out of range",
     "output_type": "error",
     "traceback": [
      "\u001b[0;31m---------------------------------------------------------------------------\u001b[0m",
      "\u001b[0;31mIndexError\u001b[0m                                Traceback (most recent call last)",
      "\u001b[0;32m<ipython-input-47-94b95e0fab4b>\u001b[0m in \u001b[0;36m<module>\u001b[0;34m()\u001b[0m\n\u001b[0;32m----> 1\u001b[0;31m \u001b[0mparticipant_num\u001b[0m \u001b[0;34m=\u001b[0m \u001b[0mi\u001b[0m\u001b[0;34m.\u001b[0m\u001b[0msplit\u001b[0m\u001b[0;34m(\u001b[0m\u001b[0mos\u001b[0m\u001b[0;34m.\u001b[0m\u001b[0msep\u001b[0m\u001b[0;34m)\u001b[0m\u001b[0;34m[\u001b[0m\u001b[0;36m1\u001b[0m\u001b[0;34m]\u001b[0m\u001b[0;34m.\u001b[0m\u001b[0msplit\u001b[0m\u001b[0;34m(\u001b[0m\u001b[0;34m'.'\u001b[0m\u001b[0;34m)\u001b[0m\u001b[0;34m[\u001b[0m\u001b[0;36m0\u001b[0m\u001b[0;34m]\u001b[0m\u001b[0;34m\u001b[0m\u001b[0m\n\u001b[0m\u001b[1;32m      2\u001b[0m \u001b[0mdf\u001b[0m\u001b[0;34m.\u001b[0m\u001b[0mto_csv\u001b[0m\u001b[0;34m(\u001b[0m\u001b[0;34m\"output/%s.csv\"\u001b[0m \u001b[0;34m%\u001b[0m \u001b[0mparticipant_num\u001b[0m\u001b[0;34m,\u001b[0m \u001b[0mindex\u001b[0m\u001b[0;34m=\u001b[0m\u001b[0mFalse\u001b[0m\u001b[0;34m)\u001b[0m\u001b[0;34m\u001b[0m\u001b[0m\n",
      "\u001b[0;31mIndexError\u001b[0m: list index out of range"
     ]
    }
   ],
   "source": [
    "participant_num = i.split(os.sep)[1].split('.')[0]\n",
    "df.to_csv(\"output/%s.csv\" % participant_num, index=False)"
   ]
  },
  {
   "cell_type": "code",
   "execution_count": null,
   "metadata": {
    "collapsed": true
   },
   "outputs": [],
   "source": []
  }
 ],
 "metadata": {
  "kernelspec": {
   "display_name": "Python 2",
   "language": "python",
   "name": "python2"
  },
  "language_info": {
   "codemirror_mode": {
    "name": "ipython",
    "version": 2
   },
   "file_extension": ".py",
   "mimetype": "text/x-python",
   "name": "python",
   "nbconvert_exporter": "python",
   "pygments_lexer": "ipython2",
   "version": "2.7.11"
  }
 },
 "nbformat": 4,
 "nbformat_minor": 0
}
